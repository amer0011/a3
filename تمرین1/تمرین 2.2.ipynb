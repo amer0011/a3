{
 "cells": [
  {
   "cell_type": "code",
   "execution_count": 5,
   "id": "20ac3e7a",
   "metadata": {},
   "outputs": [],
   "source": [
    "def a(a,b):\n",
    " c=(a+b)\n",
    " return c"
   ]
  },
  {
   "cell_type": "code",
   "execution_count": 6,
   "id": "18492e5c",
   "metadata": {},
   "outputs": [
    {
     "data": {
      "text/plain": [
       "35"
      ]
     },
     "execution_count": 6,
     "metadata": {},
     "output_type": "execute_result"
    }
   ],
   "source": [
    "a(15,20)"
   ]
  },
  {
   "cell_type": "code",
   "execution_count": 8,
   "id": "1940e115",
   "metadata": {},
   "outputs": [],
   "source": [
    "def b(a,b):\n",
    " c=(a/b)\n",
    " return c"
   ]
  },
  {
   "cell_type": "code",
   "execution_count": 10,
   "id": "b2b61d98",
   "metadata": {},
   "outputs": [
    {
     "data": {
      "text/plain": [
       "0.75"
      ]
     },
     "execution_count": 10,
     "metadata": {},
     "output_type": "execute_result"
    }
   ],
   "source": [
    "b(15,20)"
   ]
  },
  {
   "cell_type": "code",
   "execution_count": 11,
   "id": "90098ad1",
   "metadata": {},
   "outputs": [],
   "source": [
    "def c1(a,b):\n",
    " c=(a//b)\n",
    " return c"
   ]
  },
  {
   "cell_type": "code",
   "execution_count": 12,
   "id": "cf43f22e",
   "metadata": {},
   "outputs": [
    {
     "data": {
      "text/plain": [
       "0"
      ]
     },
     "execution_count": 12,
     "metadata": {},
     "output_type": "execute_result"
    }
   ],
   "source": [
    "c1(15,20)"
   ]
  },
  {
   "cell_type": "code",
   "execution_count": 13,
   "id": "5c8256f0",
   "metadata": {},
   "outputs": [],
   "source": [
    "def e(a,b):\n",
    " c=(a%b)\n",
    " return c"
   ]
  },
  {
   "cell_type": "code",
   "execution_count": 16,
   "id": "a740249d",
   "metadata": {},
   "outputs": [
    {
     "data": {
      "text/plain": [
       "15"
      ]
     },
     "execution_count": 16,
     "metadata": {},
     "output_type": "execute_result"
    }
   ],
   "source": [
    "e(15,20)"
   ]
  },
  {
   "cell_type": "code",
   "execution_count": 12,
   "id": "c1300dfa",
   "metadata": {},
   "outputs": [],
   "source": [
    "def d(a,b):\n",
    "    c=(a-b)\n",
    "    return c"
   ]
  },
  {
   "cell_type": "code",
   "execution_count": 13,
   "id": "120cdeff",
   "metadata": {},
   "outputs": [
    {
     "data": {
      "text/plain": [
       "-5"
      ]
     },
     "execution_count": 13,
     "metadata": {},
     "output_type": "execute_result"
    }
   ],
   "source": [
    "d(15,20)"
   ]
  },
  {
   "cell_type": "code",
   "execution_count": 14,
   "id": "1ce250cf",
   "metadata": {},
   "outputs": [],
   "source": [
    "def n(a,b):\n",
    "    c=(a*b)\n",
    "    return c"
   ]
  },
  {
   "cell_type": "code",
   "execution_count": null,
   "id": "f87b1c07",
   "metadata": {},
   "outputs": [],
   "source": []
  }
 ],
 "metadata": {
  "kernelspec": {
   "display_name": "Python 3 (ipykernel)",
   "language": "python",
   "name": "python3"
  },
  "language_info": {
   "codemirror_mode": {
    "name": "ipython",
    "version": 3
   },
   "file_extension": ".py",
   "mimetype": "text/x-python",
   "name": "python",
   "nbconvert_exporter": "python",
   "pygments_lexer": "ipython3",
   "version": "3.7.6"
  }
 },
 "nbformat": 4,
 "nbformat_minor": 5
}
